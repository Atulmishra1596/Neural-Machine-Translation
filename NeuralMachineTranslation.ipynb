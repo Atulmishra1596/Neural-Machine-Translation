{
  "nbformat": 4,
  "nbformat_minor": 0,
  "metadata": {
    "colab": {
      "name": "NeuralMachineTranslation.ipynb",
      "provenance": [],
      "collapsed_sections": []
    },
    "kernelspec": {
      "name": "python3",
      "display_name": "Python 3"
    },
    "accelerator": "GPU"
  },
  "cells": [
    {
      "cell_type": "code",
      "metadata": {
        "id": "0QBLm_q36J6e"
      },
      "source": [
        "# Importing all necessary libraries\n",
        "import os, sys\n",
        "\n",
        "from keras.models import Model\n",
        "from keras.layers import Input, LSTM, GRU, Dense, Embedding, Dropout\n",
        "from keras.preprocessing.text import Tokenizer\n",
        "from keras.optimizers import Adam\n",
        "from keras.preprocessing.sequence import pad_sequences\n",
        "from keras.utils import to_categorical\n",
        "import numpy as np\n",
        "import matplotlib.pyplot as plt\n",
        "from nltk.translate.bleu_score import corpus_bleu\n",
        "from tqdm import tqdm\n",
        "import pandas as pd"
      ],
      "execution_count": 70,
      "outputs": []
    },
    {
      "cell_type": "code",
      "metadata": {
        "id": "lGFj0112FlGw",
        "outputId": "362affc0-8245-4a7b-fdb0-47786700f8c6",
        "colab": {
          "base_uri": "https://localhost:8080/",
          "height": 34
        }
      },
      "source": [
        "cd .."
      ],
      "execution_count": 2,
      "outputs": [
        {
          "output_type": "stream",
          "text": [
            "/\n"
          ],
          "name": "stdout"
        }
      ]
    },
    {
      "cell_type": "code",
      "metadata": {
        "id": "q7hClzjKuWYI",
        "outputId": "a3cbd5bc-4247-4934-8109-2c494de27ea1",
        "colab": {
          "base_uri": "https://localhost:8080/",
          "height": 34
        }
      },
      "source": [
        "cd root"
      ],
      "execution_count": 3,
      "outputs": [
        {
          "output_type": "stream",
          "text": [
            "/root\n"
          ],
          "name": "stdout"
        }
      ]
    },
    {
      "cell_type": "code",
      "metadata": {
        "id": "Hp7eskyKu2of",
        "outputId": "d6e6dec6-1ece-4206-f646-d4edce767d07",
        "colab": {
          "base_uri": "https://localhost:8080/",
          "height": 34
        }
      },
      "source": [
        "# Using Kaggle API for downloading the required data and the Glove\n",
        "from googleapiclient.discovery import build\n",
        "import io, os\n",
        "from googleapiclient.http import MediaIoBaseDownload\n",
        "from google.colab import auth\n",
        "auth.authenticate_user()\n",
        "drive_service = build('drive', 'v3')\n",
        "results = drive_service.files().list(\n",
        "        q=\"name = 'kaggle.json'\", fields=\"files(id)\").execute()\n",
        "kaggle_api_key = results.get('files', [])\n",
        "filename = \"/content/.kaggle/kaggle.json\"\n",
        "os.makedirs(os.path.dirname(filename), exist_ok=True)\n",
        "request = drive_service.files().get_media(fileId=kaggle_api_key[0]['id'])\n",
        "fh = io.FileIO(filename, 'wb')\n",
        "downloader = MediaIoBaseDownload(fh, request)\n",
        "done = False\n",
        "while done is False:\n",
        "    status, done = downloader.next_chunk()\n",
        "    print(\"Download %d%%.\" % int(status.progress() * 100))\n",
        "os.chmod(filename, 600)"
      ],
      "execution_count": 4,
      "outputs": [
        {
          "output_type": "stream",
          "text": [
            "Download 100%.\n"
          ],
          "name": "stdout"
        }
      ]
    },
    {
      "cell_type": "code",
      "metadata": {
        "id": "Wbt_CM3xyiUN"
      },
      "source": [
        "! mkdir ~/.kaggle"
      ],
      "execution_count": 5,
      "outputs": []
    },
    {
      "cell_type": "code",
      "metadata": {
        "id": "xLrv8iEsyoxP"
      },
      "source": [
        "!cp /content/.kaggle/kaggle.json ~/.kaggle/kaggle.json"
      ],
      "execution_count": 6,
      "outputs": []
    },
    {
      "cell_type": "code",
      "metadata": {
        "id": "JCJqZfPtz9Nx",
        "outputId": "83fe5bb7-4212-4964-9655-a583edc37a96",
        "colab": {
          "base_uri": "https://localhost:8080/",
          "height": 34
        }
      },
      "source": [
        "cd .."
      ],
      "execution_count": 7,
      "outputs": [
        {
          "output_type": "stream",
          "text": [
            "/\n"
          ],
          "name": "stdout"
        }
      ]
    },
    {
      "cell_type": "code",
      "metadata": {
        "id": "NUgK0E_Aejd9",
        "outputId": "8930221f-fb34-48f2-9aa8-05e5748e3078",
        "colab": {
          "base_uri": "https://localhost:8080/",
          "height": 34
        }
      },
      "source": [
        "cd content/sample_data/"
      ],
      "execution_count": 8,
      "outputs": [
        {
          "output_type": "stream",
          "text": [
            "/content/sample_data\n"
          ],
          "name": "stdout"
        }
      ]
    },
    {
      "cell_type": "code",
      "metadata": {
        "id": "kukrk8YmysKX",
        "outputId": "a6aeefe8-83a8-4939-a4d1-c9989f118cba",
        "colab": {
          "base_uri": "https://localhost:8080/",
          "height": 68
        }
      },
      "source": [
        "# Downloading the pretrained Glove data \n",
        "!kaggle datasets download -d mrugankakarte/glove-6b-200d-pretrained-word-vectors"
      ],
      "execution_count": 9,
      "outputs": [
        {
          "output_type": "stream",
          "text": [
            "Downloading glove-6b-200d-pretrained-word-vectors.zip to /content/sample_data\n",
            " 96% 249M/259M [00:02<00:00, 88.1MB/s]\n",
            "100% 259M/259M [00:02<00:00, 105MB/s] \n"
          ],
          "name": "stdout"
        }
      ]
    },
    {
      "cell_type": "code",
      "metadata": {
        "id": "Oay2KAAjdAQt",
        "outputId": "a7c5b2d1-401f-48e2-9380-565b97f14814",
        "colab": {
          "base_uri": "https://localhost:8080/",
          "height": 68
        }
      },
      "source": [
        "# Downloading Fra.txt file\n",
        "!kaggle datasets download -d atulmishra1596/fra-eng"
      ],
      "execution_count": 10,
      "outputs": [
        {
          "output_type": "stream",
          "text": [
            "Downloading fra-eng.zip to /content/sample_data\n",
            "\r  0% 0.00/5.80M [00:00<?, ?B/s]\r 86% 5.00M/5.80M [00:00<00:00, 40.2MB/s]\n",
            "\r100% 5.80M/5.80M [00:00<00:00, 37.1MB/s]\n"
          ],
          "name": "stdout"
        }
      ]
    },
    {
      "cell_type": "code",
      "metadata": {
        "id": "p0EXXXijdKBa",
        "outputId": "24ca6520-99aa-4b82-d8cd-c73152a38175",
        "colab": {
          "base_uri": "https://localhost:8080/",
          "height": 51
        }
      },
      "source": [
        "!unzip fra-eng.zip"
      ],
      "execution_count": 11,
      "outputs": [
        {
          "output_type": "stream",
          "text": [
            "Archive:  fra-eng.zip\n",
            "  inflating: fra.txt                 \n"
          ],
          "name": "stdout"
        }
      ]
    },
    {
      "cell_type": "code",
      "metadata": {
        "id": "HY1zlZMddQln",
        "outputId": "103c45cf-8ffe-46cc-ff81-3e5c68f7ba05",
        "colab": {
          "base_uri": "https://localhost:8080/",
          "height": 51
        }
      },
      "source": [
        "!unzip glove-6b-200d-pretrained-word-vectors.zip"
      ],
      "execution_count": 12,
      "outputs": [
        {
          "output_type": "stream",
          "text": [
            "Archive:  glove-6b-200d-pretrained-word-vectors.zip\n",
            "  inflating: glove.6B.200d.txt       \n"
          ],
          "name": "stdout"
        }
      ]
    },
    {
      "cell_type": "code",
      "metadata": {
        "id": "rgYaw0DmqKcq"
      },
      "source": [
        "#Defining Constants\n",
        "BATCH_SIZE = 28\n",
        "EPOCHS = 40\n",
        "LSTM_NODES =256\n",
        "NUM_SENTENCES = 20000\n",
        "MAX_SENTENCE_LENGTH = 50\n",
        "MAX_NUM_WORDS = 20000\n",
        "EMBEDDING_SIZE = 200"
      ],
      "execution_count": 13,
      "outputs": []
    },
    {
      "cell_type": "code",
      "metadata": {
        "id": "wcCL_EUjqMHd",
        "outputId": "8c17dc61-d9cb-4174-ebec-9031fe5ba650",
        "colab": {
          "base_uri": "https://localhost:8080/",
          "height": 68
        }
      },
      "source": [
        "# Preparing the data\n",
        "input_sentences = []\n",
        "output_sentences = []\n",
        "output_sentences_inputs = []\n",
        "\n",
        "count = 0\n",
        "for line in open(r'fra.txt', encoding=\"utf-8\"):\n",
        "    count += 1\n",
        "\n",
        "    if count > NUM_SENTENCES:\n",
        "        break\n",
        "\n",
        "    if '\\t' not in line:\n",
        "        continue\n",
        "\n",
        "    input_sentence, output = line.rstrip().split('\\t')[:2]\n",
        "\n",
        "    output_sentence = output + ' <eos>'\n",
        "    output_sentence_input = '<sos> ' + output\n",
        "\n",
        "    input_sentences.append(input_sentence)\n",
        "    output_sentences.append(output_sentence)\n",
        "    output_sentences_inputs.append(output_sentence_input)\n",
        "\n",
        "print(\"num samples input:\", len(input_sentences))\n",
        "print(\"num samples output:\", len(output_sentences))\n",
        "print(\"num samples output input:\", len(output_sentences_inputs))"
      ],
      "execution_count": 14,
      "outputs": [
        {
          "output_type": "stream",
          "text": [
            "num samples input: 20000\n",
            "num samples output: 20000\n",
            "num samples output input: 20000\n"
          ],
          "name": "stdout"
        }
      ]
    },
    {
      "cell_type": "code",
      "metadata": {
        "id": "xPtpad3erfFQ",
        "outputId": "38e1b815-1e8a-4fc5-b677-36c516b12fa7",
        "colab": {
          "base_uri": "https://localhost:8080/",
          "height": 68
        }
      },
      "source": [
        "print(input_sentences[172])\n",
        "print(output_sentences[172])\n",
        "print(output_sentences_inputs[172])"
      ],
      "execution_count": 15,
      "outputs": [
        {
          "output_type": "stream",
          "text": [
            "I'm Tom.\n",
            "Je suis Tom. <eos>\n",
            "<sos> Je suis Tom.\n"
          ],
          "name": "stdout"
        }
      ]
    },
    {
      "cell_type": "code",
      "metadata": {
        "id": "v4awqVpzrvYV",
        "outputId": "9b833425-8eea-4a41-8e48-1efedc66d5d8",
        "colab": {
          "base_uri": "https://localhost:8080/",
          "height": 51
        }
      },
      "source": [
        "# Prepairing the tokenizer for input and output\n",
        "input_tokenizer = Tokenizer(num_words=MAX_NUM_WORDS)\n",
        "input_tokenizer.fit_on_texts(input_sentences)\n",
        "input_integer_seq = input_tokenizer.texts_to_sequences(input_sentences)\n",
        "\n",
        "word2idx_inputs = input_tokenizer.word_index\n",
        "print('Total unique words in the input: %s' % len(word2idx_inputs))\n",
        "\n",
        "max_input_len = max(len(sen) for sen in input_integer_seq)\n",
        "print(\"Length of longest sentence in input: %g\" % max_input_len)"
      ],
      "execution_count": 16,
      "outputs": [
        {
          "output_type": "stream",
          "text": [
            "Total unique words in the input: 3518\n",
            "Length of longest sentence in input: 6\n"
          ],
          "name": "stdout"
        }
      ]
    },
    {
      "cell_type": "code",
      "metadata": {
        "id": "FCZMi9lsr_BA",
        "outputId": "ea0d8430-1197-4d66-c00e-7ae8939d3bc6",
        "colab": {
          "base_uri": "https://localhost:8080/",
          "height": 51
        }
      },
      "source": [
        "output_tokenizer = Tokenizer(num_words=MAX_NUM_WORDS, filters='')\n",
        "output_tokenizer.fit_on_texts(output_sentences + output_sentences_inputs)\n",
        "output_integer_seq = output_tokenizer.texts_to_sequences(output_sentences)\n",
        "output_input_integer_seq = output_tokenizer.texts_to_sequences(output_sentences_inputs)\n",
        "\n",
        "word2idx_outputs = output_tokenizer.word_index\n",
        "print('Total unique words in the output: %s' % len(word2idx_outputs))\n",
        "\n",
        "num_words_output = len(word2idx_outputs) + 1\n",
        "max_out_len = max(len(sen) for sen in output_integer_seq)\n",
        "print(\"Length of longest sentence in the output: %g\" % max_out_len)"
      ],
      "execution_count": 17,
      "outputs": [
        {
          "output_type": "stream",
          "text": [
            "Total unique words in the output: 9546\n",
            "Length of longest sentence in the output: 12\n"
          ],
          "name": "stdout"
        }
      ]
    },
    {
      "cell_type": "code",
      "metadata": {
        "id": "Gk2J-hDisIlL",
        "outputId": "39e40a07-0322-4e94-ce84-6dbd046d0b9e",
        "colab": {
          "base_uri": "https://localhost:8080/",
          "height": 51
        }
      },
      "source": [
        "# Using pad sequences for input\n",
        "encoder_input_sequences = pad_sequences(input_integer_seq, maxlen=max_input_len)\n",
        "print(\"encoder_input_sequences.shape:\", encoder_input_sequences.shape)\n",
        "print(\"encoder_input_sequences[172]:\", encoder_input_sequences[172])"
      ],
      "execution_count": 18,
      "outputs": [
        {
          "output_type": "stream",
          "text": [
            "encoder_input_sequences.shape: (20000, 6)\n",
            "encoder_input_sequences[172]: [0 0 0 0 6 7]\n"
          ],
          "name": "stdout"
        }
      ]
    },
    {
      "cell_type": "code",
      "metadata": {
        "id": "QbqDExGOsT0e",
        "outputId": "23cefe4d-190b-4c8b-b2f2-61080fcff2ef",
        "colab": {
          "base_uri": "https://localhost:8080/",
          "height": 51
        }
      },
      "source": [
        "# Using Pad sequences for decoder input\n",
        "decoder_output_sequences = pad_sequences(output_integer_seq, maxlen=max_out_len, padding='post')\n",
        "print(\"decoder_input_sequences.shape:\", decoder_output_sequences.shape)\n",
        "print(\"decoder_input_sequences[172]:\", decoder_output_sequences[172])"
      ],
      "execution_count": 19,
      "outputs": [
        {
          "output_type": "stream",
          "text": [
            "decoder_input_sequences.shape: (20000, 12)\n",
            "decoder_input_sequences[172]: [ 3  6 52  1  0  0  0  0  0  0  0  0]\n"
          ],
          "name": "stdout"
        }
      ]
    },
    {
      "cell_type": "code",
      "metadata": {
        "id": "RrdWnvKA3-BM",
        "outputId": "3db7e361-ed0d-434e-cd15-a582044d2cbe",
        "colab": {
          "base_uri": "https://localhost:8080/",
          "height": 51
        }
      },
      "source": [
        "# Using pad sequences for decoder output\n",
        "decoder_input_sequences = pad_sequences(output_input_integer_seq, maxlen=max_out_len, padding='post')\n",
        "print(\"decoder_input_sequences.shape:\", decoder_input_sequences.shape)\n",
        "print(\"decoder_input_sequences[172]:\", decoder_input_sequences[172])"
      ],
      "execution_count": 20,
      "outputs": [
        {
          "output_type": "stream",
          "text": [
            "decoder_input_sequences.shape: (20000, 12)\n",
            "decoder_input_sequences[172]: [ 2  3  6 52  0  0  0  0  0  0  0  0]\n"
          ],
          "name": "stdout"
        }
      ]
    },
    {
      "cell_type": "code",
      "metadata": {
        "id": "h0tzQAlb0hkg"
      },
      "source": [
        "# Defining the embedding for better outcomes\n",
        "from numpy import array\n",
        "from numpy import asarray\n",
        "from numpy import zeros\n",
        "\n",
        "embeddings_dictionary = dict()\n",
        "\n",
        "glove_file = open(r'glove.6B.200d.txt', encoding=\"utf8\")\n",
        "\n",
        "for line in glove_file:\n",
        "    records = line.split()\n",
        "    word = records[0]\n",
        "    vector_dimensions = asarray(records[1:], dtype='float32')\n",
        "    embeddings_dictionary[word] = vector_dimensions\n",
        "glove_file.close()"
      ],
      "execution_count": 21,
      "outputs": []
    },
    {
      "cell_type": "code",
      "metadata": {
        "id": "LH3pPEet0xIM"
      },
      "source": [
        "num_words = min(MAX_NUM_WORDS, len(word2idx_inputs) + 1)\n",
        "embedding_matrix = zeros((num_words, EMBEDDING_SIZE))\n",
        "for word, index in word2idx_inputs.items():\n",
        "    embedding_vector = embeddings_dictionary.get(word)\n",
        "    if embedding_vector is not None:\n",
        "        embedding_matrix[index] = embedding_vector"
      ],
      "execution_count": 22,
      "outputs": []
    },
    {
      "cell_type": "code",
      "metadata": {
        "id": "Ew4eMvUK0_Qo",
        "outputId": "507f3652-e599-40ed-c2a8-98acce6caf62",
        "colab": {
          "base_uri": "https://localhost:8080/",
          "height": 595
        }
      },
      "source": [
        "print(embeddings_dictionary[\"ill\"])"
      ],
      "execution_count": 23,
      "outputs": [
        {
          "output_type": "stream",
          "text": [
            "[-1.3678e-01 -1.2341e+00  9.1821e-02  4.1108e-04 -4.2440e-01 -1.6925e-01\n",
            " -6.8674e-01  2.7310e-01 -9.0062e-03  7.8294e-01  5.5474e-01 -6.2364e-01\n",
            " -2.3002e-01  3.4412e-02 -4.3126e-01  3.3275e-01 -5.4735e-03  4.7513e-01\n",
            " -2.2373e-01 -4.3633e-01  2.0227e-01  2.0582e+00 -5.7510e-01  3.4343e-01\n",
            " -2.6590e-01 -4.8830e-02 -9.6774e-03  2.1611e-01  1.3341e-01  6.3831e-01\n",
            "  5.1747e-01  1.2799e-01 -2.8627e-01  6.8733e-01  2.4220e-01  1.9950e-01\n",
            " -6.6307e-01 -2.7816e-01 -3.6237e-01  4.5144e-01  1.0588e-01  1.7281e-02\n",
            " -3.0468e-01  1.5026e-01  2.1852e-01 -3.1932e-01  1.3770e-01  1.2739e-01\n",
            " -1.6556e-01  1.3902e-01  1.7015e-01  2.3350e-01 -3.3352e-01 -5.1093e-01\n",
            "  6.9014e-01 -3.5317e-01  2.7926e-01 -1.3363e-01 -1.9151e-01  1.7112e-01\n",
            "  4.6543e-01 -6.2009e-02 -8.9533e-03  6.7865e-01 -3.1779e-01  2.7782e-01\n",
            " -3.9092e-01  3.2741e-01  2.5915e-01  7.9665e-01  1.1763e-01  1.3447e-01\n",
            "  2.7597e-01  7.2716e-01 -2.5222e-01  1.0175e-01 -4.1661e-01 -9.7364e-01\n",
            "  4.8892e-01 -1.6351e-01 -1.9252e-01  6.3978e-02 -5.5903e-02 -7.0656e-02\n",
            "  9.1079e-02 -4.1690e-02  4.2369e-01 -9.9706e-01 -4.1716e-02  4.7087e-02\n",
            " -2.0141e-01  5.2891e-01  5.9587e-01  5.5045e-01 -3.6546e-01 -1.2535e-01\n",
            " -5.8200e-01 -1.1863e-01  2.3346e-02  1.0057e+00  2.8325e-01  1.5206e-01\n",
            "  5.3331e-01  3.9002e-01  3.4537e-01 -5.4030e-01  3.2582e-01  5.7524e-01\n",
            "  5.6299e-02 -2.4781e-01  2.4316e-01  2.0154e-01  1.6612e-01  1.6778e-01\n",
            " -1.1380e-01  2.1318e-01 -5.3549e-02  6.2055e-02 -9.0526e-03 -1.7812e-01\n",
            "  1.0593e-01  6.6257e-02  1.6021e-01 -5.1132e-01  2.2105e-01  5.9388e-02\n",
            "  1.2329e-01  2.7003e-01  3.2863e-01 -2.8522e-01  3.5411e-01 -2.4082e-01\n",
            " -3.1278e-02 -1.9085e-01  5.8688e-02  3.5845e-01  3.6044e-01  2.2923e-01\n",
            " -7.0672e-01  5.9467e-02  5.9720e-01  2.1781e-02 -5.0183e-01  3.7104e-01\n",
            "  1.3987e+00  4.9246e-01 -7.6747e-02 -9.3899e-02  3.0634e-01 -1.5312e-01\n",
            " -2.4829e-01  1.5477e-01 -6.2748e-02 -4.0492e-01 -1.1719e-01 -4.1689e-02\n",
            " -5.9397e-02  6.1056e-01  6.3669e-02  1.4022e-01 -3.7929e-01  2.4846e-01\n",
            "  2.9137e-01  4.1447e-01 -1.8881e-02 -3.4860e-01 -2.0084e-01  5.9500e-01\n",
            " -1.7077e-01  3.3953e-01  4.4372e-05 -3.5102e-01  1.1824e-01  1.6568e-01\n",
            " -5.1318e-02  8.5974e-02  1.1544e-01  2.5680e-01  1.0990e+00  6.6168e-02\n",
            "  9.5166e-01  3.9769e-01 -3.2686e-01 -2.8565e-02 -3.3161e-01  1.7332e-01\n",
            "  3.8694e-01  1.0662e-01 -4.0252e-02 -4.4849e-02 -1.6649e-01 -7.3526e-01\n",
            " -5.5396e-01  1.5627e-01  3.7989e-01  1.6329e-01 -1.1670e-01 -4.4480e-01\n",
            "  7.3142e-03  4.2904e-01]\n"
          ],
          "name": "stdout"
        }
      ]
    },
    {
      "cell_type": "code",
      "metadata": {
        "id": "UFEAlY671GPG"
      },
      "source": [
        "embedding_layer = Embedding(num_words, EMBEDDING_SIZE, weights=[embedding_matrix], input_length=max_input_len)"
      ],
      "execution_count": 24,
      "outputs": []
    },
    {
      "cell_type": "code",
      "metadata": {
        "id": "2MrHtvLL0_Jr"
      },
      "source": [
        "# Creating one hot encode for output\n",
        "decoder_targets_one_hot = np.zeros((\n",
        "        len(input_sentences),\n",
        "        max_out_len,\n",
        "        num_words_output\n",
        "    ),\n",
        "    dtype='float32'\n",
        ")"
      ],
      "execution_count": 25,
      "outputs": []
    },
    {
      "cell_type": "code",
      "metadata": {
        "id": "LA76HHxF1rIu",
        "outputId": "cec37f3b-0e6a-4e9a-d1ff-80361d3cbaa2",
        "colab": {
          "base_uri": "https://localhost:8080/",
          "height": 34
        }
      },
      "source": [
        "decoder_targets_one_hot.shape"
      ],
      "execution_count": 26,
      "outputs": [
        {
          "output_type": "execute_result",
          "data": {
            "text/plain": [
              "(20000, 12, 9547)"
            ]
          },
          "metadata": {
            "tags": []
          },
          "execution_count": 26
        }
      ]
    },
    {
      "cell_type": "code",
      "metadata": {
        "id": "5R_1dVNb12Mj"
      },
      "source": [
        "for i, d in enumerate(decoder_output_sequences):\n",
        "    for t, word in enumerate(d):\n",
        "        decoder_targets_one_hot[i, t, word] = 1"
      ],
      "execution_count": 27,
      "outputs": []
    },
    {
      "cell_type": "markdown",
      "metadata": {
        "id": "NS0JpDQtcJ0U"
      },
      "source": [
        "**Now defining the model as Encoder-Decoder**"
      ]
    },
    {
      "cell_type": "code",
      "metadata": {
        "id": "UxZrOdSgfB6H"
      },
      "source": [
        "encoder_inputs_placeholder = Input(shape=(max_input_len,))\n",
        "x = embedding_layer(encoder_inputs_placeholder)\n",
        "encoder = LSTM(LSTM_NODES, return_state=True)\n",
        "encoder_outputs, h, c = encoder(x)\n",
        "encoder_states = [h, c]"
      ],
      "execution_count": 28,
      "outputs": []
    },
    {
      "cell_type": "code",
      "metadata": {
        "id": "OlJdJQH5fTar"
      },
      "source": [
        "decoder_inputs_placeholder = Input(shape=(max_out_len,))\n",
        "\n",
        "decoder_embedding = Embedding(num_words_output, LSTM_NODES)\n",
        "decoder_inputs_x = decoder_embedding(decoder_inputs_placeholder)\n",
        "\n",
        "decoder_lstm = LSTM(LSTM_NODES, return_sequences=True, return_state=True)\n",
        "decoder_outputs, _, _ = decoder_lstm(decoder_inputs_x, initial_state=encoder_states)"
      ],
      "execution_count": 29,
      "outputs": []
    },
    {
      "cell_type": "code",
      "metadata": {
        "id": "puUbePDMfbnx"
      },
      "source": [
        "decoder_dense = Dense(num_words_output, activation='softmax')\n",
        "decoder_outputs = decoder_dense(decoder_outputs)"
      ],
      "execution_count": 30,
      "outputs": []
    },
    {
      "cell_type": "code",
      "metadata": {
        "id": "JgdmpXMYffqY"
      },
      "source": [
        "model = Model([encoder_inputs_placeholder,\n",
        "  decoder_inputs_placeholder], decoder_outputs)\n",
        "model.compile(\n",
        "    optimizer=Adam(learning_rate=0.001),\n",
        "    loss='categorical_crossentropy',\n",
        "    metrics=['accuracy']\n",
        ")"
      ],
      "execution_count": 31,
      "outputs": []
    },
    {
      "cell_type": "code",
      "metadata": {
        "id": "Pm3jkh8WfmFj",
        "outputId": "744fe252-a28e-4edf-cffe-b0d9fb16c1fe",
        "colab": {
          "base_uri": "https://localhost:8080/",
          "height": 533
        }
      },
      "source": [
        "from keras.utils import plot_model\n",
        "plot_model(model, to_file='model_plot4a.png', show_shapes=True, show_layer_names=True)"
      ],
      "execution_count": null,
      "outputs": [
        {
          "output_type": "execute_result",
          "data": {
            "image/png": "[encoded data removed]",
            "text/plain": [
              "<IPython.core.display.Image object>"
            ]
          },
          "metadata": {
            "tags": []
          },
          "execution_count": 37
        }
      ]
    },
    {
      "cell_type": "code",
      "metadata": {
        "id": "iV4GQad7fl71",
        "outputId": "f85756c6-041f-41ed-9416-1b6961c23dc2",
        "colab": {
          "base_uri": "https://localhost:8080/",
          "height": 1000
        }
      },
      "source": [
        "r = model.fit(\n",
        "    [encoder_input_sequences, decoder_input_sequences],\n",
        "    decoder_targets_one_hot,\n",
        "    batch_size=BATCH_SIZE,\n",
        "    epochs=EPOCHS,\n",
        "    validation_split=0.2,\n",
        ")"
      ],
      "execution_count": 32,
      "outputs": [
        {
          "output_type": "stream",
          "text": [
            "Epoch 1/40\n",
            "572/572 [==============================] - 28s 49ms/step - loss: 2.1897 - accuracy: 0.7043 - val_loss: 2.2228 - val_accuracy: 0.6761\n",
            "Epoch 2/40\n",
            "572/572 [==============================] - 27s 48ms/step - loss: 1.5913 - accuracy: 0.7574 - val_loss: 1.9474 - val_accuracy: 0.7214\n",
            "Epoch 3/40\n",
            "572/572 [==============================] - 27s 48ms/step - loss: 1.3124 - accuracy: 0.7962 - val_loss: 1.7892 - val_accuracy: 0.7421\n",
            "Epoch 4/40\n",
            "572/572 [==============================] - 27s 47ms/step - loss: 1.1242 - accuracy: 0.8130 - val_loss: 1.7116 - val_accuracy: 0.7492\n",
            "Epoch 5/40\n",
            "572/572 [==============================] - 28s 48ms/step - loss: 0.9704 - accuracy: 0.8269 - val_loss: 1.6634 - val_accuracy: 0.7557\n",
            "Epoch 6/40\n",
            "572/572 [==============================] - 27s 47ms/step - loss: 0.8380 - accuracy: 0.8393 - val_loss: 1.6268 - val_accuracy: 0.7606\n",
            "Epoch 7/40\n",
            "572/572 [==============================] - 27s 47ms/step - loss: 0.7209 - accuracy: 0.8527 - val_loss: 1.6141 - val_accuracy: 0.7638\n",
            "Epoch 8/40\n",
            "572/572 [==============================] - 27s 47ms/step - loss: 0.6183 - accuracy: 0.8664 - val_loss: 1.6012 - val_accuracy: 0.7678\n",
            "Epoch 9/40\n",
            "572/572 [==============================] - 27s 47ms/step - loss: 0.5260 - accuracy: 0.8795 - val_loss: 1.5945 - val_accuracy: 0.7722\n",
            "Epoch 10/40\n",
            "572/572 [==============================] - 27s 47ms/step - loss: 0.4453 - accuracy: 0.8929 - val_loss: 1.5983 - val_accuracy: 0.7744\n",
            "Epoch 11/40\n",
            "572/572 [==============================] - 27s 47ms/step - loss: 0.3752 - accuracy: 0.9050 - val_loss: 1.6009 - val_accuracy: 0.7761\n",
            "Epoch 12/40\n",
            "572/572 [==============================] - 27s 48ms/step - loss: 0.3180 - accuracy: 0.9162 - val_loss: 1.6125 - val_accuracy: 0.7763\n",
            "Epoch 13/40\n",
            "572/572 [==============================] - 27s 47ms/step - loss: 0.2717 - accuracy: 0.9249 - val_loss: 1.6199 - val_accuracy: 0.7791\n",
            "Epoch 14/40\n",
            "572/572 [==============================] - 27s 48ms/step - loss: 0.2349 - accuracy: 0.9325 - val_loss: 1.6383 - val_accuracy: 0.7786\n",
            "Epoch 15/40\n",
            "572/572 [==============================] - 27s 48ms/step - loss: 0.2066 - accuracy: 0.9378 - val_loss: 1.6473 - val_accuracy: 0.7795\n",
            "Epoch 16/40\n",
            "572/572 [==============================] - 27s 48ms/step - loss: 0.1850 - accuracy: 0.9415 - val_loss: 1.6630 - val_accuracy: 0.7791\n",
            "Epoch 17/40\n",
            "572/572 [==============================] - 28s 48ms/step - loss: 0.1684 - accuracy: 0.9445 - val_loss: 1.6700 - val_accuracy: 0.7810\n",
            "Epoch 18/40\n",
            "572/572 [==============================] - 27s 48ms/step - loss: 0.1557 - accuracy: 0.9463 - val_loss: 1.6782 - val_accuracy: 0.7824\n",
            "Epoch 19/40\n",
            "572/572 [==============================] - 28s 48ms/step - loss: 0.1458 - accuracy: 0.9476 - val_loss: 1.7050 - val_accuracy: 0.7806\n",
            "Epoch 20/40\n",
            "572/572 [==============================] - 27s 48ms/step - loss: 0.1376 - accuracy: 0.9486 - val_loss: 1.7206 - val_accuracy: 0.7826\n",
            "Epoch 21/40\n",
            "572/572 [==============================] - 28s 48ms/step - loss: 0.1311 - accuracy: 0.9493 - val_loss: 1.7334 - val_accuracy: 0.7803\n",
            "Epoch 22/40\n",
            "572/572 [==============================] - 27s 48ms/step - loss: 0.1259 - accuracy: 0.9499 - val_loss: 1.7410 - val_accuracy: 0.7810\n",
            "Epoch 23/40\n",
            "572/572 [==============================] - 27s 48ms/step - loss: 0.1214 - accuracy: 0.9508 - val_loss: 1.7571 - val_accuracy: 0.7821\n",
            "Epoch 24/40\n",
            "572/572 [==============================] - 28s 48ms/step - loss: 0.1181 - accuracy: 0.9515 - val_loss: 1.7665 - val_accuracy: 0.7829\n",
            "Epoch 25/40\n",
            "572/572 [==============================] - 27s 48ms/step - loss: 0.1156 - accuracy: 0.9515 - val_loss: 1.7740 - val_accuracy: 0.7832\n",
            "Epoch 26/40\n",
            "572/572 [==============================] - 27s 48ms/step - loss: 0.1130 - accuracy: 0.9516 - val_loss: 1.8050 - val_accuracy: 0.7824\n",
            "Epoch 27/40\n",
            "572/572 [==============================] - 27s 48ms/step - loss: 0.1106 - accuracy: 0.9518 - val_loss: 1.7999 - val_accuracy: 0.7817\n",
            "Epoch 28/40\n",
            "572/572 [==============================] - 28s 48ms/step - loss: 0.1086 - accuracy: 0.9523 - val_loss: 1.8180 - val_accuracy: 0.7824\n",
            "Epoch 29/40\n",
            "572/572 [==============================] - 27s 48ms/step - loss: 0.1071 - accuracy: 0.9522 - val_loss: 1.8110 - val_accuracy: 0.7834\n",
            "Epoch 30/40\n",
            "572/572 [==============================] - 27s 47ms/step - loss: 0.1058 - accuracy: 0.9529 - val_loss: 1.8183 - val_accuracy: 0.7834\n",
            "Epoch 31/40\n",
            "572/572 [==============================] - 27s 48ms/step - loss: 0.1050 - accuracy: 0.9521 - val_loss: 1.8314 - val_accuracy: 0.7840\n",
            "Epoch 32/40\n",
            "572/572 [==============================] - 27s 48ms/step - loss: 0.1035 - accuracy: 0.9527 - val_loss: 1.8432 - val_accuracy: 0.7820\n",
            "Epoch 33/40\n",
            "572/572 [==============================] - 27s 47ms/step - loss: 0.1024 - accuracy: 0.9527 - val_loss: 1.8453 - val_accuracy: 0.7844\n",
            "Epoch 34/40\n",
            "572/572 [==============================] - 27s 48ms/step - loss: 0.1013 - accuracy: 0.9523 - val_loss: 1.8499 - val_accuracy: 0.7821\n",
            "Epoch 35/40\n",
            "572/572 [==============================] - 27s 48ms/step - loss: 0.1008 - accuracy: 0.9528 - val_loss: 1.8535 - val_accuracy: 0.7838\n",
            "Epoch 36/40\n",
            "572/572 [==============================] - 27s 48ms/step - loss: 0.0998 - accuracy: 0.9523 - val_loss: 1.8637 - val_accuracy: 0.7842\n",
            "Epoch 37/40\n",
            "572/572 [==============================] - 27s 47ms/step - loss: 0.0988 - accuracy: 0.9526 - val_loss: 1.8601 - val_accuracy: 0.7839\n",
            "Epoch 38/40\n",
            "572/572 [==============================] - 27s 47ms/step - loss: 0.0979 - accuracy: 0.9529 - val_loss: 1.8736 - val_accuracy: 0.7828\n",
            "Epoch 39/40\n",
            "572/572 [==============================] - 27s 48ms/step - loss: 0.0976 - accuracy: 0.9524 - val_loss: 1.8838 - val_accuracy: 0.7832\n",
            "Epoch 40/40\n",
            "572/572 [==============================] - 27s 47ms/step - loss: 0.0966 - accuracy: 0.9532 - val_loss: 1.8778 - val_accuracy: 0.7841\n"
          ],
          "name": "stdout"
        }
      ]
    },
    {
      "cell_type": "markdown",
      "metadata": {
        "id": "RXdTC1qTcS3e"
      },
      "source": [
        "**Improving the model for prediction**"
      ]
    },
    {
      "cell_type": "code",
      "metadata": {
        "id": "HmMc8wychzJq"
      },
      "source": [
        "encoder_model = Model(encoder_inputs_placeholder, encoder_states)"
      ],
      "execution_count": 33,
      "outputs": []
    },
    {
      "cell_type": "code",
      "metadata": {
        "id": "xiiy4zz9i0Xo"
      },
      "source": [
        "decoder_state_input_h = Input(shape=(LSTM_NODES,))\n",
        "decoder_state_input_c = Input(shape=(LSTM_NODES,))\n",
        "decoder_states_inputs = [decoder_state_input_h, decoder_state_input_c]"
      ],
      "execution_count": 34,
      "outputs": []
    },
    {
      "cell_type": "code",
      "metadata": {
        "id": "5LLOOGOpi3FB"
      },
      "source": [
        "decoder_inputs_single = Input(shape=(1,))\n",
        "decoder_inputs_single_x = decoder_embedding(decoder_inputs_single)"
      ],
      "execution_count": 35,
      "outputs": []
    },
    {
      "cell_type": "code",
      "metadata": {
        "id": "Vesgcn6Oi6Gn"
      },
      "source": [
        "decoder_outputs, h, c = decoder_lstm(decoder_inputs_single_x, initial_state=decoder_states_inputs)"
      ],
      "execution_count": 36,
      "outputs": []
    },
    {
      "cell_type": "code",
      "metadata": {
        "id": "ztIOrtTOi9dU"
      },
      "source": [
        "decoder_states = [h, c]\n",
        "decoder_outputs = decoder_dense(decoder_outputs)"
      ],
      "execution_count": 37,
      "outputs": []
    },
    {
      "cell_type": "code",
      "metadata": {
        "id": "5-0AaqPSjAM6"
      },
      "source": [
        "decoder_model = Model(\n",
        "    [decoder_inputs_single] + decoder_states_inputs,\n",
        "    [decoder_outputs] + decoder_states\n",
        ")"
      ],
      "execution_count": 38,
      "outputs": []
    },
    {
      "cell_type": "code",
      "metadata": {
        "id": "D6TjFSNrjDyC",
        "outputId": "04aa0e8b-039a-46e9-dd49-5fa4d107a615",
        "colab": {
          "base_uri": "https://localhost:8080/",
          "height": 422
        }
      },
      "source": [
        "from keras.utils import plot_model\n",
        "plot_model(decoder_model, to_file='model_plot_dec.png', show_shapes=True, show_layer_names=True)"
      ],
      "execution_count": 39,
      "outputs": [
        {
          "output_type": "execute_result",
          "data": {
            "image/png": "[encoded data removed]",
            "text/plain": [
              "<IPython.core.display.Image object>"
            ]
          },
          "metadata": {
            "tags": []
          },
          "execution_count": 39
        }
      ]
    },
    {
      "cell_type": "code",
      "metadata": {
        "id": "qYG2NzQ6jHih"
      },
      "source": [
        "idx2word_input = {v:k for k, v in word2idx_inputs.items()}\n",
        "idx2word_target = {v:k for k, v in word2idx_outputs.items()}"
      ],
      "execution_count": 40,
      "outputs": []
    },
    {
      "cell_type": "code",
      "metadata": {
        "id": "ZRgbo-kQjQgp"
      },
      "source": [
        "def translate_sentence(input_seq):\n",
        "    states_value = encoder_model.predict(input_seq)\n",
        "    target_seq = np.zeros((1, 1))\n",
        "    target_seq[0, 0] = word2idx_outputs['<sos>']\n",
        "    eos = word2idx_outputs['<eos>']\n",
        "    output_sentence = []\n",
        "\n",
        "    for _ in range(max_out_len):\n",
        "        output_tokens, h, c = decoder_model.predict([target_seq] + states_value)\n",
        "        idx = np.argmax(output_tokens[0, 0, :])\n",
        "\n",
        "        if eos == idx:\n",
        "            break\n",
        "\n",
        "        word = ''\n",
        "\n",
        "        if idx > 0:\n",
        "            word = idx2word_target[idx]\n",
        "            output_sentence.append(word)\n",
        "\n",
        "        target_seq[0, 0] = idx\n",
        "        states_value = [h, c]\n",
        "\n",
        "    return ' '.join(output_sentence)"
      ],
      "execution_count": 41,
      "outputs": []
    },
    {
      "cell_type": "code",
      "metadata": {
        "id": "nODvMfxPjbXB",
        "outputId": "b903e54e-8fcb-4270-a850-9662b75a01ca",
        "colab": {
          "base_uri": "https://localhost:8080/",
          "height": 85
        }
      },
      "source": [
        "# Performing prediction\n",
        "eng_words=[]\n",
        "french_words=[]\n",
        "scores=[]\n",
        "for _ in tqdm(range(1000)):\n",
        "  i = np.random.choice(len(input_sentences))\n",
        "  input_seq = encoder_input_sequences[i:i+1]\n",
        "  translation = translate_sentence(input_seq)\n",
        "  eng_words.append(input_sentences[i])\n",
        "  french_words.append(translation)\n",
        "  #print('-')\n",
        "  #print('Input:', input_sentences[i])\n",
        "  #print('Output',output_sentences[i].split('<')[0])\n",
        "  #print('Prediction:', translation)\n",
        "  references =[output_sentences[i]]\n",
        "  candidates = [translation]\n",
        "  score = corpus_bleu(references, candidates)\n",
        "  scores.append(score)"
      ],
      "execution_count": 68,
      "outputs": [
        {
          "output_type": "stream",
          "text": [
            "/usr/local/lib/python3.6/dist-packages/nltk/translate/bleu_score.py:490: UserWarning: \n",
            "Corpus/Sentence contains 0 counts of 2-gram overlaps.\n",
            "BLEU scores might be undesirable; use SmoothingFunction().\n",
            "  warnings.warn(_msg)\n"
          ],
          "name": "stderr"
        }
      ]
    },
    {
      "cell_type": "code",
      "metadata": {
        "id": "3Dhdnn5bW6ld",
        "outputId": "a1ccae3c-3f22-4f33-944f-d700141bee86",
        "colab": {
          "base_uri": "https://localhost:8080/",
          "height": 34
        }
      },
      "source": [
        "# Average BLEU score on the testing data\n",
        "from statistics import mean \n",
        "print(mean(scores))"
      ],
      "execution_count": 69,
      "outputs": [
        {
          "output_type": "stream",
          "text": [
            "0.8697922598387215\n"
          ],
          "name": "stdout"
        }
      ]
    },
    {
      "cell_type": "code",
      "metadata": {
        "id": "Fupy3CgeeI2Q"
      },
      "source": [
        "df=pd.DataFrame()"
      ],
      "execution_count": 71,
      "outputs": []
    },
    {
      "cell_type": "code",
      "metadata": {
        "id": "IzyWZGfAeUqu"
      },
      "source": [
        "df['English_words']=eng_words\n",
        "df['predicted_french_words']=french_words"
      ],
      "execution_count": 72,
      "outputs": []
    },
    {
      "cell_type": "code",
      "metadata": {
        "id": "1D1knU9ceedY"
      },
      "source": [
        "df.to_csv('prediction_data.csv')"
      ],
      "execution_count": 74,
      "outputs": []
    }
  ]
}